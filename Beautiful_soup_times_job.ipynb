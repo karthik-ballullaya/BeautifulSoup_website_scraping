{
 "cells": [
  {
   "cell_type": "markdown",
   "metadata": {},
   "source": [
    "# **Web scraping for job listings from timesjobs.com using BeautifulSoup**\n",
    "\n",
    "### Project aim:\n",
    "*        To get first few pages of job listings at the timesjob.com\n",
    "*        Provide basic info of the job like:\n",
    "            a. Job Title\n",
    "            b. Company\n",
    "            c. Experience required\n",
    "            d. Job description\n",
    "            e. Keyskills\n",
    "            f. Time when the listing was posted etc...\n"
   ]
  },
  {
   "cell_type": "markdown",
   "metadata": {},
   "source": [
    "#### Import necessary libraries\n",
    "*  bs4 from beautifulSoup\n",
    "*  requests for request handling\n",
    "*  regex to clean the text\n",
    "*  pandas to store data in xlsx format"
   ]
  },
  {
   "cell_type": "code",
   "execution_count": 1,
   "metadata": {},
   "outputs": [],
   "source": [
    "import requests\n",
    "from bs4 import BeautifulSoup\n",
    "import re\n",
    "import pandas as pd"
   ]
  },
  {
   "cell_type": "markdown",
   "metadata": {},
   "source": [
    "#### Get Inputs:\n",
    "*        Job Title\n",
    "*        Location\n",
    "*        Experience\n",
    "*        max pages to parse data from\n",
    "*        file name where the results have to be stored"
   ]
  },
  {
   "cell_type": "code",
   "execution_count": 2,
   "metadata": {},
   "outputs": [
    {
     "name": "stdout",
     "output_type": "stream",
     "text": [
      "Enter a job title to search: data science\n",
      "Enter a location: bangalore\n",
      "Enter years of experience: 2\n",
      "Enter max number of pages to be parsed: 3\n",
      "Enter the file name where results to be stored: sample_output\n"
     ]
    }
   ],
   "source": [
    "jobTitle   = input('Enter a job title to search: ')\n",
    "location   = input('Enter a location: ')\n",
    "experience = input('Enter years of experience: ')\n",
    "maxPages   = int(input('Enter max number of pages to be parsed: '))\n",
    "fileName   = input('Enter the file name where results to be stored: ') + '.xlsx'\n",
    "\n",
    "url = 'https://www.timesjobs.com/candidate/job-search.html?\\\n",
    "searchType=personalizedSearch&from=submit&txtKeywords={}&txt\\\n",
    "Location={}&cboWorkExp1={}&sequence='.format(jobTitle, location, experience)"
   ]
  },
  {
   "cell_type": "markdown",
   "metadata": {},
   "source": [
    "### Define the data to fetch"
   ]
  },
  {
   "cell_type": "code",
   "execution_count": 3,
   "metadata": {},
   "outputs": [],
   "source": [
    "columns = ['Job type', 'Company Name', 'Experience required',\n",
    "           'Work Location', 'Compensation', 'Job description',\n",
    "           'Skill set', 'Posted Time', 'WFH Available', 'More details']"
   ]
  },
  {
   "cell_type": "markdown",
   "metadata": {},
   "source": [
    "### Helper functions"
   ]
  },
  {
   "cell_type": "markdown",
   "metadata": {},
   "source": [
    "#### Function to get the job cards from the times job website"
   ]
  },
  {
   "cell_type": "code",
   "execution_count": 4,
   "metadata": {},
   "outputs": [],
   "source": [
    "def getJobCards(pageNumber):\n",
    "    times_job_page = requests.get(url + str(pageNumber))\n",
    "    return BeautifulSoup(times_job_page.content, 'lxml').find_all('li', class_='wht-shd-bx')"
   ]
  },
  {
   "cell_type": "markdown",
   "metadata": {},
   "source": [
    "#### lambda function to remove \\n\\r\\t from the text"
   ]
  },
  {
   "cell_type": "code",
   "execution_count": 5,
   "metadata": {},
   "outputs": [],
   "source": [
    "cleanText = lambda x: re.sub(r'\\s+', ' ', x)"
   ]
  },
  {
   "cell_type": "markdown",
   "metadata": {},
   "source": [
    "#### Get the tags where the job listing are present\n",
    "Function to get the following data\n",
    "* Job type\n",
    "* Company name\n",
    "* Experience required\n",
    "* Work location\n",
    "* Compensation\n",
    "* Job description\n",
    "* Skill set\n",
    "* Posted time\n",
    "* WFH available\n",
    "* url for more details"
   ]
  },
  {
   "cell_type": "code",
   "execution_count": 6,
   "metadata": {},
   "outputs": [],
   "source": [
    "def parseJobCard(jobCard):\n",
    "    jobType         = jobCard.find('a').text\n",
    "    moreDetails     = jobCard.find('a').get('href')\n",
    "    companyName     = jobCard.find('h3', class_='joblist-comp-name').contents[0]\n",
    "    jobDetails      = jobCard.find('ul', class_=\"top-jd-dtl\")\n",
    "    reqExp          = jobDetails.select_one('li:nth-child(1)').text[11:]\n",
    "    location        = jobDetails.select_one('li span').text\n",
    "    secondListChild = jobDetails.select_one('li:nth-child(2)').text\n",
    "    compensation    = secondListChild if 'p.a' in secondListChild else 'NA'\n",
    "    jobDescription  = jobCard.find(class_='list-job-dtl').select_one('li:nth-child(1)').contents[2]\n",
    "    skillSet        = jobCard.find(class_='srp-skills').text\n",
    "    tags            = jobCard.find(class_='sim-posted')\n",
    "    postedTime      = tags.select_one('span:last-child').text\n",
    "    isWFHAvailable  = 'Available' if 'Work from Home' in tags.select_one('span:first-child').text else 'NA'\n",
    "    \n",
    "    return {\n",
    "        'Job type'           : cleanText(jobType),\n",
    "        'Company Name'       : cleanText(companyName),\n",
    "        'Experience required': cleanText(reqExp),\n",
    "        'Work Location'      : cleanText(location), \n",
    "        'Compensation'       : cleanText(compensation),\n",
    "        'Job description'    : cleanText(jobDescription),\n",
    "        'Skill set'          : cleanText(skillSet),\n",
    "        'Posted Time'        : cleanText(postedTime),\n",
    "        'WFH Available'      : cleanText(isWFHAvailable),\n",
    "        'More details'       : moreDetails\n",
    "    }"
   ]
  },
  {
   "cell_type": "markdown",
   "metadata": {},
   "source": [
    "### Main logic"
   ]
  },
  {
   "cell_type": "markdown",
   "metadata": {},
   "source": [
    "#### Create empty dataframe to hold the result"
   ]
  },
  {
   "cell_type": "code",
   "execution_count": 7,
   "metadata": {},
   "outputs": [],
   "source": [
    "parsedResultData = pd.DataFrame([], columns = columns)"
   ]
  },
  {
   "cell_type": "markdown",
   "metadata": {},
   "source": [
    "#### Get job listing for maxPages number of pages"
   ]
  },
  {
   "cell_type": "code",
   "execution_count": 8,
   "metadata": {},
   "outputs": [],
   "source": [
    "for page in range(1, maxPages + 1):\n",
    "    # fetch the next page\n",
    "    jobCards = getJobCards(page)\n",
    "    if (len(jobCards) == 0):\n",
    "        break\n",
    "    parsedJobdf = pd.DataFrame([parseJobCard(jobCard) for jobCard in jobCards],\n",
    "                               columns = columns)\n",
    "    parsedResultData = parsedResultData.append(parsedJobdf)"
   ]
  },
  {
   "cell_type": "markdown",
   "metadata": {},
   "source": [
    "#### Print the number of listing parsed"
   ]
  },
  {
   "cell_type": "code",
   "execution_count": 15,
   "metadata": {},
   "outputs": [
    {
     "name": "stdout",
     "output_type": "stream",
     "text": [
      "Number of job listing parsed are 750\n"
     ]
    }
   ],
   "source": [
    "print(f'Number of job listing parsed are {parsedResultData.size}')"
   ]
  },
  {
   "cell_type": "markdown",
   "metadata": {},
   "source": [
    "#### Print the first 5 rows"
   ]
  },
  {
   "cell_type": "code",
   "execution_count": 9,
   "metadata": {},
   "outputs": [
    {
     "data": {
      "text/html": [
       "<div>\n",
       "<style scoped>\n",
       "    .dataframe tbody tr th:only-of-type {\n",
       "        vertical-align: middle;\n",
       "    }\n",
       "\n",
       "    .dataframe tbody tr th {\n",
       "        vertical-align: top;\n",
       "    }\n",
       "\n",
       "    .dataframe thead th {\n",
       "        text-align: right;\n",
       "    }\n",
       "</style>\n",
       "<table border=\"1\" class=\"dataframe\">\n",
       "  <thead>\n",
       "    <tr style=\"text-align: right;\">\n",
       "      <th></th>\n",
       "      <th>Job type</th>\n",
       "      <th>Company Name</th>\n",
       "      <th>Experience required</th>\n",
       "      <th>Work Location</th>\n",
       "      <th>Compensation</th>\n",
       "      <th>Job description</th>\n",
       "      <th>Skill set</th>\n",
       "      <th>Posted Time</th>\n",
       "      <th>WFH Available</th>\n",
       "      <th>More details</th>\n",
       "    </tr>\n",
       "  </thead>\n",
       "  <tbody>\n",
       "    <tr>\n",
       "      <th>0</th>\n",
       "      <td>Data Science</td>\n",
       "      <td>ADmyBRAND</td>\n",
       "      <td>0 - 3 yrs</td>\n",
       "      <td>Bengaluru / Bangalore</td>\n",
       "      <td>NA</td>\n",
       "      <td>Data ScienceSelecting features , building and...</td>\n",
       "      <td>data mining , api , machine learning</td>\n",
       "      <td>Posted few days ago</td>\n",
       "      <td>NA</td>\n",
       "      <td>https://www.timesjobs.com/job-detail/data-scie...</td>\n",
       "    </tr>\n",
       "    <tr>\n",
       "      <th>1</th>\n",
       "      <td>Data Science</td>\n",
       "      <td>DataWeave Software Pvt. Ltd.</td>\n",
       "      <td>0 - 3 yrs</td>\n",
       "      <td>Bengaluru / Bangalore</td>\n",
       "      <td>NA</td>\n",
       "      <td>Data ScienceWe the Data Science team at DataW...</td>\n",
       "      <td>natural language processing , machine learnin...</td>\n",
       "      <td>Posted few days ago</td>\n",
       "      <td>NA</td>\n",
       "      <td>https://www.timesjobs.com/job-detail/data-scie...</td>\n",
       "    </tr>\n",
       "    <tr>\n",
       "      <th>2</th>\n",
       "      <td>Data Science</td>\n",
       "      <td>capgemini</td>\n",
       "      <td>0 - 3 yrs</td>\n",
       "      <td>Hyderabad/Secunderabad, Mumbai, Pune, Bengalur...</td>\n",
       "      <td>NA</td>\n",
       "      <td>Job DescriptionHands on experience in Python ...</td>\n",
       "      <td>hive , cloudera , python , sas , scala , impa...</td>\n",
       "      <td>Posted few days ago</td>\n",
       "      <td>NA</td>\n",
       "      <td>https://www.timesjobs.com/job-detail/data-scie...</td>\n",
       "    </tr>\n",
       "    <tr>\n",
       "      <th>3</th>\n",
       "      <td>Data Analyst / Data Science</td>\n",
       "      <td>CANVAS27.com</td>\n",
       "      <td>1 - 6 yrs</td>\n",
       "      <td>Ahmedabad, Bengaluru / Bangalore, Chennai, Del...</td>\n",
       "      <td>₹Rs 4.00 - 9.00 Lacs p.a.</td>\n",
       "      <td>Common data science toolkits , such as Python...</td>\n",
       "      <td>r , data analysis , logistic regression , sql...</td>\n",
       "      <td>Posted a month ago</td>\n",
       "      <td>NA</td>\n",
       "      <td>https://www.timesjobs.com/job-detail/data-anal...</td>\n",
       "    </tr>\n",
       "    <tr>\n",
       "      <th>4</th>\n",
       "      <td>Explore Job Opening on Data Science</td>\n",
       "      <td>IIBM Institute of Business Management</td>\n",
       "      <td>0 - 3 yrs</td>\n",
       "      <td>Bengaluru / Bangalore, Chennai, Delhi/NCR, Hyd...</td>\n",
       "      <td>NA</td>\n",
       "      <td>IIBM Institute offers job linked internship a...</td>\n",
       "      <td>IT Proffestionals , Python , Java</td>\n",
       "      <td>Posted few days ago</td>\n",
       "      <td>Available</td>\n",
       "      <td>https://www.timesjobs.com/job-detail/explore-j...</td>\n",
       "    </tr>\n",
       "  </tbody>\n",
       "</table>\n",
       "</div>"
      ],
      "text/plain": [
       "                               Job type  \\\n",
       "0                          Data Science   \n",
       "1                          Data Science   \n",
       "2                          Data Science   \n",
       "3           Data Analyst / Data Science   \n",
       "4   Explore Job Opening on Data Science   \n",
       "\n",
       "                              Company Name Experience required  \\\n",
       "0                               ADmyBRAND            0 - 3 yrs   \n",
       "1            DataWeave Software Pvt. Ltd.            0 - 3 yrs   \n",
       "2                               capgemini            0 - 3 yrs   \n",
       "3                            CANVAS27.com            1 - 6 yrs   \n",
       "4   IIBM Institute of Business Management            0 - 3 yrs   \n",
       "\n",
       "                                       Work Location  \\\n",
       "0                              Bengaluru / Bangalore   \n",
       "1                              Bengaluru / Bangalore   \n",
       "2  Hyderabad/Secunderabad, Mumbai, Pune, Bengalur...   \n",
       "3  Ahmedabad, Bengaluru / Bangalore, Chennai, Del...   \n",
       "4  Bengaluru / Bangalore, Chennai, Delhi/NCR, Hyd...   \n",
       "\n",
       "                Compensation  \\\n",
       "0                         NA   \n",
       "1                         NA   \n",
       "2                         NA   \n",
       "3  ₹Rs 4.00 - 9.00 Lacs p.a.   \n",
       "4                         NA   \n",
       "\n",
       "                                     Job description  \\\n",
       "0   Data ScienceSelecting features , building and...   \n",
       "1   Data ScienceWe the Data Science team at DataW...   \n",
       "2   Job DescriptionHands on experience in Python ...   \n",
       "3   Common data science toolkits , such as Python...   \n",
       "4   IIBM Institute offers job linked internship a...   \n",
       "\n",
       "                                           Skill set          Posted Time  \\\n",
       "0              data mining , api , machine learning   Posted few days ago   \n",
       "1   natural language processing , machine learnin...  Posted few days ago   \n",
       "2   hive , cloudera , python , sas , scala , impa...  Posted few days ago   \n",
       "3   r , data analysis , logistic regression , sql...   Posted a month ago   \n",
       "4                 IT Proffestionals , Python , Java   Posted few days ago   \n",
       "\n",
       "  WFH Available                                       More details  \n",
       "0            NA  https://www.timesjobs.com/job-detail/data-scie...  \n",
       "1            NA  https://www.timesjobs.com/job-detail/data-scie...  \n",
       "2            NA  https://www.timesjobs.com/job-detail/data-scie...  \n",
       "3            NA  https://www.timesjobs.com/job-detail/data-anal...  \n",
       "4     Available  https://www.timesjobs.com/job-detail/explore-j...  "
      ]
     },
     "execution_count": 9,
     "metadata": {},
     "output_type": "execute_result"
    }
   ],
   "source": [
    "parsedResultData.head()"
   ]
  },
  {
   "cell_type": "markdown",
   "metadata": {},
   "source": [
    "#### Store the parsed data in .csv file"
   ]
  },
  {
   "cell_type": "code",
   "execution_count": 10,
   "metadata": {},
   "outputs": [],
   "source": [
    "parsedResultData.to_excel(fileName, index = False)"
   ]
  }
 ],
 "metadata": {
  "kernelspec": {
   "display_name": "pdv",
   "language": "python",
   "name": "pdv"
  },
  "language_info": {
   "codemirror_mode": {
    "name": "ipython",
    "version": 3
   },
   "file_extension": ".py",
   "mimetype": "text/x-python",
   "name": "python",
   "nbconvert_exporter": "python",
   "pygments_lexer": "ipython3",
   "version": "3.8.3"
  }
 },
 "nbformat": 4,
 "nbformat_minor": 4
}
